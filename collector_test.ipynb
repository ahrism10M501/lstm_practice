{
 "cells": [
  {
   "cell_type": "code",
   "execution_count": 1,
   "id": "4ee09fcc",
   "metadata": {},
   "outputs": [],
   "source": [
    "from re_datacolllector import DataCollector"
   ]
  },
  {
   "cell_type": "code",
   "execution_count": 3,
   "id": "41ef86b4",
   "metadata": {},
   "outputs": [],
   "source": [
    "datas = DataCollector(\"./dadad\", 'train', annot=True)"
   ]
  },
  {
   "cell_type": "code",
   "execution_count": 6,
   "id": "32189b1e",
   "metadata": {},
   "outputs": [
    {
     "data": {
      "text/plain": [
       "107503"
      ]
     },
     "execution_count": 6,
     "metadata": {},
     "output_type": "execute_result"
    }
   ],
   "source": [
    "datas.__len__()"
   ]
  },
  {
   "cell_type": "code",
   "execution_count": 9,
   "id": "19ffd826",
   "metadata": {},
   "outputs": [
    {
     "data": {
      "text/plain": [
       "{'id': '732078',\n",
       " 'doc_type': '위키',\n",
       " 'doc_id': 'A220623145873',\n",
       " 'title': '응집력',\n",
       " 'date': '2022-04-01',\n",
       " 'publisher': '위키백과',\n",
       " 'reg_no': '1505345',\n",
       " 'ipc': '',\n",
       " 'field': 'IT_과학',\n",
       " 'subfield': '',\n",
       " 'sentence': '물 분자의 경우를 생각해 본다면 수소 원자는 염기성을 띠고 있는 반면에 산소는 산성을 띤다.',\n",
       " 'subj_start': 19,\n",
       " 'subj_end': 23,\n",
       " 'obj_start': 26,\n",
       " 'obj_end': 28,\n",
       " 'subj_word': '수소 원자',\n",
       " 'subj_prop': 'MT',\n",
       " 'obj_word': '염기성',\n",
       " 'obj_prop': 'TM',\n",
       " 'relation': 'hasAttribute'}"
      ]
     },
     "execution_count": 9,
     "metadata": {},
     "output_type": "execute_result"
    }
   ],
   "source": [
    "datas[70000]"
   ]
  },
  {
   "cell_type": "code",
   "execution_count": 10,
   "id": "19e1dd4b",
   "metadata": {},
   "outputs": [
    {
     "data": {
      "text/plain": [
       "{'id': '6677',\n",
       " 'doc_type': '위키',\n",
       " 'doc_id': 'A220517001507',\n",
       " 'title': '위키프로젝트/제안/2010년 2월',\n",
       " 'date': '2022-04-01',\n",
       " 'publisher': '위키백과',\n",
       " 'reg_no': '404903',\n",
       " 'ipc': '',\n",
       " 'field': 'IT_과학',\n",
       " 'subfield': '',\n",
       " 'sentence': '범죄는 나라와 시대에 따라 다소 차이는 있으나 동서고금을 불문하고 살인죄,강도죄,절도죄 등은 공통적으로 범죄로 규정되어 왔으나 징병제국가인 대한민국에서는 범죄로 성립하나 모병제국가인 것은 물론 헌법에서도 국민의 병역의무를 규정하지 않은 일본에서는 성립할수 없는 범죄인 징병기피처럼 특정한 나라와 시대에서만 성립하는 범죄도 있습니다.',\n",
       " 'subj_start': 79,\n",
       " 'subj_end': 82,\n",
       " 'obj_start': 72,\n",
       " 'obj_end': 76,\n",
       " 'subj_word': '대한민국',\n",
       " 'subj_prop': 'OG',\n",
       " 'obj_word': '징병제국가',\n",
       " 'obj_prop': 'TM',\n",
       " 'relation': 'isPartOf'}"
      ]
     },
     "execution_count": 10,
     "metadata": {},
     "output_type": "execute_result"
    }
   ],
   "source": [
    "datas[30000]"
   ]
  },
  {
   "cell_type": "code",
   "execution_count": 11,
   "id": "c46b47dc",
   "metadata": {},
   "outputs": [
    {
     "ename": "IndexError",
     "evalue": "인덱스 12513123789는 전체 데이터 크기 107503 범위 밖 입니다.",
     "output_type": "error",
     "traceback": [
      "\u001b[1;31m---------------------------------------------------------------------------\u001b[0m",
      "\u001b[1;31mIndexError\u001b[0m                                Traceback (most recent call last)",
      "Cell \u001b[1;32mIn[11], line 1\u001b[0m\n\u001b[1;32m----> 1\u001b[0m \u001b[43mdatas\u001b[49m\u001b[43m[\u001b[49m\u001b[38;5;241;43m12513123789\u001b[39;49m\u001b[43m]\u001b[49m\n",
      "File \u001b[1;32mc:\\Users\\ahris\\Desktop\\LSTM\\re_datacolllector.py:61\u001b[0m, in \u001b[0;36mDataCollector.__getitem__\u001b[1;34m(self, idx)\u001b[0m\n\u001b[0;32m     59\u001b[0m \u001b[38;5;28;01mdef\u001b[39;00m\u001b[38;5;250m \u001b[39m\u001b[38;5;21m__getitem__\u001b[39m(\u001b[38;5;28mself\u001b[39m, idx):\n\u001b[0;32m     60\u001b[0m     \u001b[38;5;28;01mif\u001b[39;00m \u001b[38;5;129;01mnot\u001b[39;00m ( \u001b[38;5;241m0\u001b[39m \u001b[38;5;241m<\u001b[39m\u001b[38;5;241m=\u001b[39m idx \u001b[38;5;241m<\u001b[39m \u001b[38;5;28mself\u001b[39m\u001b[38;5;241m.\u001b[39mtotal_data_length):\n\u001b[1;32m---> 61\u001b[0m         \u001b[38;5;28;01mraise\u001b[39;00m \u001b[38;5;167;01mIndexError\u001b[39;00m(\u001b[38;5;124mf\u001b[39m\u001b[38;5;124m\"\u001b[39m\u001b[38;5;124m인덱스 \u001b[39m\u001b[38;5;132;01m{\u001b[39;00midx\u001b[38;5;132;01m}\u001b[39;00m\u001b[38;5;124m는 전체 데이터 크기 \u001b[39m\u001b[38;5;132;01m{\u001b[39;00m\u001b[38;5;28mself\u001b[39m\u001b[38;5;241m.\u001b[39mtotal_data_length\u001b[38;5;132;01m}\u001b[39;00m\u001b[38;5;124m 범위 밖 입니다.\u001b[39m\u001b[38;5;124m\"\u001b[39m)\n\u001b[0;32m     63\u001b[0m     idx_buff \u001b[38;5;241m=\u001b[39m idx\n\u001b[0;32m     64\u001b[0m     \u001b[38;5;28;01mfor\u001b[39;00m key, length \u001b[38;5;129;01min\u001b[39;00m \u001b[38;5;28mself\u001b[39m\u001b[38;5;241m.\u001b[39mdata_path\u001b[38;5;241m.\u001b[39mitems():\n",
      "\u001b[1;31mIndexError\u001b[0m: 인덱스 12513123789는 전체 데이터 크기 107503 범위 밖 입니다."
     ]
    }
   ],
   "source": [
    "datas[12513123789]"
   ]
  },
  {
   "cell_type": "code",
   "execution_count": null,
   "id": "c40be159",
   "metadata": {},
   "outputs": [],
   "source": []
  }
 ],
 "metadata": {
  "kernelspec": {
   "display_name": "venv",
   "language": "python",
   "name": "python3"
  },
  "language_info": {
   "codemirror_mode": {
    "name": "ipython",
    "version": 3
   },
   "file_extension": ".py",
   "mimetype": "text/x-python",
   "name": "python",
   "nbconvert_exporter": "python",
   "pygments_lexer": "ipython3",
   "version": "3.10.2"
  }
 },
 "nbformat": 4,
 "nbformat_minor": 5
}
